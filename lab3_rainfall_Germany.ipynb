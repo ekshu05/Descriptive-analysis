{
 "cells": [
  {
   "cell_type": "markdown",
   "id": "825644e4",
   "metadata": {},
   "source": [
    "       \n",
    "Z-scores – standardizing values to\n",
    "compare across variables\n",
    "\n",
    "\n",
    "·        \n",
    "Interquartile Range (IQR) – spread of the\n",
    "middle 50% of data\n",
    "Cross-tabulation – frequency analysis between categorical\n",
    "variables"
   ]
  },
  {
   "cell_type": "code",
   "execution_count": null,
   "id": "343e63fc",
   "metadata": {},
   "outputs": [
    {
     "data": {
      "text/html": [
       "<div>\n",
       "<style scoped>\n",
       "    .dataframe tbody tr th:only-of-type {\n",
       "        vertical-align: middle;\n",
       "    }\n",
       "\n",
       "    .dataframe tbody tr th {\n",
       "        vertical-align: top;\n",
       "    }\n",
       "\n",
       "    .dataframe thead th {\n",
       "        text-align: right;\n",
       "    }\n",
       "</style>\n",
       "<table border=\"1\" class=\"dataframe\">\n",
       "  <thead>\n",
       "    <tr style=\"text-align: right;\">\n",
       "      <th></th>\n",
       "      <th>City</th>\n",
       "      <th>Latitude</th>\n",
       "      <th>Longitude</th>\n",
       "      <th>Month</th>\n",
       "      <th>Year</th>\n",
       "      <th>Rainfall (mm)</th>\n",
       "      <th>Elevation (m)</th>\n",
       "      <th>Climate_Type</th>\n",
       "      <th>Temperature (°C)</th>\n",
       "      <th>Humidity (%)</th>\n",
       "    </tr>\n",
       "  </thead>\n",
       "  <tbody>\n",
       "    <tr>\n",
       "      <th>0</th>\n",
       "      <td>Berlin</td>\n",
       "      <td>52.52</td>\n",
       "      <td>13.405</td>\n",
       "      <td>1</td>\n",
       "      <td>2015</td>\n",
       "      <td>71.56</td>\n",
       "      <td>34</td>\n",
       "      <td>Oceanic</td>\n",
       "      <td>19.6</td>\n",
       "      <td>72</td>\n",
       "    </tr>\n",
       "    <tr>\n",
       "      <th>1</th>\n",
       "      <td>Berlin</td>\n",
       "      <td>52.52</td>\n",
       "      <td>13.405</td>\n",
       "      <td>2</td>\n",
       "      <td>2015</td>\n",
       "      <td>129.56</td>\n",
       "      <td>34</td>\n",
       "      <td>Oceanic</td>\n",
       "      <td>31.4</td>\n",
       "      <td>88</td>\n",
       "    </tr>\n",
       "    <tr>\n",
       "      <th>2</th>\n",
       "      <td>Berlin</td>\n",
       "      <td>52.52</td>\n",
       "      <td>13.405</td>\n",
       "      <td>3</td>\n",
       "      <td>2015</td>\n",
       "      <td>24.58</td>\n",
       "      <td>34</td>\n",
       "      <td>Oceanic</td>\n",
       "      <td>15.4</td>\n",
       "      <td>61</td>\n",
       "    </tr>\n",
       "    <tr>\n",
       "      <th>3</th>\n",
       "      <td>Berlin</td>\n",
       "      <td>52.52</td>\n",
       "      <td>13.405</td>\n",
       "      <td>4</td>\n",
       "      <td>2015</td>\n",
       "      <td>177.73</td>\n",
       "      <td>34</td>\n",
       "      <td>Oceanic</td>\n",
       "      <td>15.1</td>\n",
       "      <td>62</td>\n",
       "    </tr>\n",
       "    <tr>\n",
       "      <th>4</th>\n",
       "      <td>Berlin</td>\n",
       "      <td>52.52</td>\n",
       "      <td>13.405</td>\n",
       "      <td>5</td>\n",
       "      <td>2015</td>\n",
       "      <td>100.62</td>\n",
       "      <td>34</td>\n",
       "      <td>Oceanic</td>\n",
       "      <td>-3.0</td>\n",
       "      <td>57</td>\n",
       "    </tr>\n",
       "  </tbody>\n",
       "</table>\n",
       "</div>"
      ],
      "text/plain": [
       "     City  Latitude  Longitude  Month  Year  Rainfall (mm)  Elevation (m)  \\\n",
       "0  Berlin     52.52     13.405      1  2015          71.56             34   \n",
       "1  Berlin     52.52     13.405      2  2015         129.56             34   \n",
       "2  Berlin     52.52     13.405      3  2015          24.58             34   \n",
       "3  Berlin     52.52     13.405      4  2015         177.73             34   \n",
       "4  Berlin     52.52     13.405      5  2015         100.62             34   \n",
       "\n",
       "  Climate_Type  Temperature (°C)  Humidity (%)  \n",
       "0      Oceanic              19.6            72  \n",
       "1      Oceanic              31.4            88  \n",
       "2      Oceanic              15.4            61  \n",
       "3      Oceanic              15.1            62  \n",
       "4      Oceanic              -3.0            57  "
      ]
     },
     "execution_count": 6,
     "metadata": {},
     "output_type": "execute_result"
    }
   ],
   "source": [
    "import pandas as pd\n",
    "df=pd.read_csv(r\"C:\\RVU\\Data Science\\lab3\\Rainfall_Data_Germany_Complete.csv\")\n",
    "df.head()"
   ]
  },
  {
   "cell_type": "code",
   "execution_count": 19,
   "id": "e115f59c",
   "metadata": {},
   "outputs": [
    {
     "name": "stdout",
     "output_type": "stream",
     "text": [
      "City\n",
      "Berlin        14.500000\n",
      "Cologne       14.874074\n",
      "Dresden       14.555556\n",
      "Dusseldorf    13.973148\n",
      "Frankfurt     13.992593\n",
      "Hamburg       14.989815\n",
      "Hanover       15.610185\n",
      "Leipzig       16.041667\n",
      "Munich        14.453704\n",
      "Stuttgart     14.251852\n",
      "Name: Temperature (°C), dtype: float64\n",
      "City\n",
      "Berlin         90.705\n",
      "Cologne       115.550\n",
      "Dresden       115.975\n",
      "Dusseldorf     96.910\n",
      "Frankfurt      86.635\n",
      "Hamburg       100.485\n",
      "Hanover        95.125\n",
      "Leipzig        98.885\n",
      "Munich         95.790\n",
      "Stuttgart     100.580\n",
      "Name: Rainfall (mm), dtype: float64\n"
     ]
    },
    {
     "data": {
      "text/plain": [
       "0    Oceanic\n",
       "Name: Climate_Type, dtype: object"
      ]
     },
     "execution_count": 19,
     "metadata": {},
     "output_type": "execute_result"
    }
   ],
   "source": [
    "#Measures of central tendency (mean,median, mode)\n",
    "\n",
    "# Mean temperature grouped by City\n",
    "city_temp_mean = df.groupby('City')['Temperature (°C)'].mean()\n",
    "#Median\n",
    "print(city_temp_mean)\n",
    "city_temp_median = df.groupby('City')['Rainfall (mm)'].median()\n",
    "\n",
    "print(city_temp_median)\n",
    "df['Climate_Type'].mode()"
   ]
  },
  {
   "cell_type": "code",
   "execution_count": 21,
   "id": "b525336d",
   "metadata": {},
   "outputs": [
    {
     "name": "stdout",
     "output_type": "stream",
     "text": [
      "Temp_bin\n",
      "(-10, -5]    2260.298533\n",
      "(-5, 0]      3712.881353\n",
      "(0, 5]       3372.446624\n",
      "(5, 10]      3415.902668\n",
      "(10, 15]     3340.083616\n",
      "(15, 20]     3600.621911\n",
      "(20, 25]     2966.260731\n",
      "(25, 30]     3559.195086\n",
      "(30, 35]     2485.902441\n",
      "(35, 40]             NaN\n",
      "Name: Rainfall (mm), dtype: float64\n"
     ]
    },
    {
     "name": "stderr",
     "output_type": "stream",
     "text": [
      "C:\\Users\\Pradeep\\AppData\\Local\\Temp\\ipykernel_131004\\397738227.py:7: FutureWarning: The default of observed=False is deprecated and will be changed to True in a future version of pandas. Pass observed=False to retain current behavior or observed=True to adopt the future default and silence this warning.\n",
      "  rain_var_by_temp = df.groupby('Temp_bin')['Rainfall (mm)'].var()\n"
     ]
    }
   ],
   "source": [
    "#Measures of dispersion (variance, stddev, range)\n",
    "import pandas as pd\n",
    "\n",
    "# Create temperature bins (you can adjust bin size)\n",
    "df['Temp_bin'] = pd.cut(df['Temperature (°C)'], bins=range(-10, 41, 5))  # from -10°C to 40°C in steps of 5\n",
    "# Variance of rainfall for each temp bin\n",
    "rain_var_by_temp = df.groupby('Temp_bin')['Rainfall (mm)'].var()\n",
    "print(rain_var_by_temp)"
   ]
  },
  {
   "cell_type": "code",
   "execution_count": 24,
   "id": "8b3df8c2",
   "metadata": {},
   "outputs": [
    {
     "name": "stdout",
     "output_type": "stream",
     "text": [
      "  Temp Range  Frequency\n",
      "0  (-10, -5]          3\n",
      "1    (-5, 0]        138\n",
      "2     (0, 5]        133\n",
      "3    (5, 10]        128\n",
      "4   (10, 15]        143\n",
      "5   (15, 20]        148\n",
      "6   (20, 25]        134\n",
      "7   (25, 30]        129\n",
      "8   (30, 35]        124\n",
      "9   (35, 40]          0\n"
     ]
    }
   ],
   "source": [
    "#Frequency distribution\n",
    "temp_freq = (\n",
    "    pd.cut(df['Temperature (°C)'], bins=range(-10, 41, 5))\n",
    "    .value_counts(sort=False)          # keep bin order\n",
    "    .reset_index())\n",
    "temp_freq.columns = ['Temp Range', 'Frequency']   # rename columns\n",
    "print(temp_freq)\n",
    "\n"
   ]
  },
  {
   "cell_type": "code",
   "execution_count": 25,
   "id": "9bba1b0a",
   "metadata": {},
   "outputs": [
    {
     "name": "stdout",
     "output_type": "stream",
     "text": [
      "Correlation between Humidity and Rainfall: 0.014436611100285998\n"
     ]
    }
   ],
   "source": [
    "#Correlation analysis\n",
    "corr = df['Humidity (%)'].corr(df['Rainfall (mm)'])\n",
    "print(\"Correlation between Humidity and Rainfall:\", corr)\n"
   ]
  },
  {
   "cell_type": "code",
   "execution_count": null,
   "id": "a55fd4ab",
   "metadata": {},
   "outputs": [
    {
     "data": {
      "image/png": "[encoded data removed]",
      "text/plain": [
       "<Figure size 600x400 with 1 Axes>"
      ]
     },
     "metadata": {},
     "output_type": "display_data"
    }
   ],
   "source": [
    "# Visuals: histogram, boxplot, bar chart,\n",
    "# pairplot, and heatmap\n",
    "import matplotlib.pyplot as plt\n",
    "import seaborn as sns\n",
    "\n",
    "# Boxplot for rainfall\n",
    "plt.figure(figsize=(6,4))\n",
    "sns.boxplot(y=df['Rainfall (mm)'])\n",
    "plt.title(\"Boxplot of Rainfall\")\n",
    "plt.ylabel(\"Rainfall (mm)\")\n",
    "plt.show()\n",
    "\n",
    "\n"
   ]
  },
  {
   "cell_type": "code",
   "execution_count": null,
   "id": "1236525f",
   "metadata": {},
   "outputs": [
    {
     "data": {
      "image/png": "[encoded data removed]",
      "text/plain": [
       "<Figure size 500x400 with 2 Axes>"
      ]
     },
     "metadata": {},
     "output_type": "display_data"
    }
   ],
   "source": [
    "#heatmap\n",
    "import seaborn as sns\n",
    "import matplotlib.pyplot as plt\n",
    "\n",
    "# Select only the numeric columns you want\n",
    "corr = df[['Rainfall (mm)', 'Humidity (%)']].corr()\n",
    "\n",
    "# Plot heatmap\n",
    "plt.figure(figsize=(5,4))\n",
    "sns.heatmap(corr, annot=True, cmap=\"coolwarm\", fmt=\".2f\")\n",
    "plt.title(\"Correlation Heatmap: Rainfall and Humidity\")\n",
    "plt.show()\n",
    "#no corrlation between rain and humidity\n"
   ]
  },
  {
   "cell_type": "code",
   "execution_count": null,
   "id": "65d50168",
   "metadata": {},
   "outputs": [
    {
     "name": "stdout",
     "output_type": "stream",
     "text": [
      "Skewness of Rainfall: 1.893532290229746e-05\n"
     ]
    }
   ],
   "source": [
    "#Skewness – measures asymmetry of distribution\n",
    "from scipy.stats import skew\n",
    "\n",
    "# Skewness using scipy\n",
    "rainfall_skew = skew(df['Rainfall (mm)'], nan_policy='omit')\n",
    "print(\"Skewness of Rainfall:\", rainfall_skew)\n"
   ]
  },
  {
   "cell_type": "code",
   "execution_count": 34,
   "id": "1062d16f",
   "metadata": {},
   "outputs": [
    {
     "name": "stdout",
     "output_type": "stream",
     "text": [
      "Kurtosis of Rainfall: 1.7946838553217688\n",
      "Kurtosis (pandas): -1.2053387715796\n"
     ]
    }
   ],
   "source": [
    "#Kurtosis – measures the “peakedness” of the distribution\n",
    "from scipy.stats import kurtosis\n",
    "\n",
    "# Kurtosis of rainfall\n",
    "rainfall_kurt = kurtosis(df['Rainfall (mm)'], fisher=False, nan_policy='omit')\n",
    "print(\"Kurtosis of Rainfall:\", rainfall_kurt)\n",
    "\n",
    "# Using pandas\n",
    "print(\"Kurtosis (pandas):\", df['Rainfall (mm)'].kurt())\n",
    "\n"
   ]
  },
  {
   "cell_type": "code",
   "execution_count": 37,
   "id": "8f3e1586",
   "metadata": {},
   "outputs": [
    {
     "name": "stdout",
     "output_type": "stream",
     "text": [
      "Q1 (25th percentile): 49.5\n",
      "Q2 (50th percentile / Median): 99.42500000000001\n",
      "Q3 (75th percentile): 149.5275\n",
      "10th percentile: 18.518\n",
      "90th percentile: 177.913\n"
     ]
    }
   ],
   "source": [
    "#Percentile\n",
    "import numpy as np\n",
    "\n",
    "# Quartiles\n",
    "q1 = np.percentile(df['Rainfall (mm)'], 25)\n",
    "q2 = np.percentile(df['Rainfall (mm)'], 50)  # Median\n",
    "q3 = np.percentile(df['Rainfall (mm)'], 75)\n",
    "\n",
    "# Other percentiles\n",
    "p10 = np.percentile(df['Rainfall (mm)'], 10)\n",
    "p90 = np.percentile(df['Rainfall (mm)'], 90)\n",
    "\n",
    "print(\"Q1 (25th percentile):\", q1)\n",
    "print(\"Q2 (50th percentile / Median):\", q2)\n",
    "print(\"Q3 (75th percentile):\", q3)\n",
    "print(\"10th percentile:\", p10)\n",
    "print(\"90th percentile:\", p90)\n"
   ]
  },
  {
   "cell_type": "code",
   "execution_count": 38,
   "id": "1cf24520",
   "metadata": {},
   "outputs": [
    {
     "name": "stdout",
     "output_type": "stream",
     "text": [
      "Mean Rainfall: 99.21178703703703\n",
      "Standard Deviation: 57.533794634521016\n",
      "Coefficient of Variation (CV): 0.5799088631781516\n"
     ]
    }
   ],
   "source": [
    "#Coefficient of Variation (CV) – relativemeasure of variability (std dev / mean)\n",
    "import numpy as np\n",
    "\n",
    "mean = np.mean(df['Rainfall (mm)'])\n",
    "std_dev = np.std(df['Rainfall (mm)'])\n",
    "cv = std_dev / mean\n",
    "\n",
    "print(\"Mean Rainfall:\", mean)\n",
    "print(\"Standard Deviation:\", std_dev)\n",
    "print(\"Coefficient of Variation (CV):\", cv)\n",
    "\n"
   ]
  }
 ],
 "metadata": {
  "kernelspec": {
   "display_name": "Python 3",
   "language": "python",
   "name": "python3"
  },
  "language_info": {
   "codemirror_mode": {
    "name": "ipython",
    "version": 3
   },
   "file_extension": ".py",
   "mimetype": "text/x-python",
   "name": "python",
   "nbconvert_exporter": "python",
   "pygments_lexer": "ipython3",
   "version": "3.13.5"
  }
 },
 "nbformat": 4,
 "nbformat_minor": 5
}
